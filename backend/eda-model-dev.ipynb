{
 "cells": [
  {
   "cell_type": "markdown",
   "metadata": {
    "id": "hM04MdrT77HX"
   },
   "source": [
    "# Importing Necessary Libraries\n"
   ]
  },
  {
   "cell_type": "code",
   "execution_count": null,
   "metadata": {
    "executionInfo": {
     "elapsed": 2324,
     "status": "ok",
     "timestamp": 1748674724920,
     "user": {
      "displayName": "Umar Aftab",
      "userId": "07956869396390363126"
     },
     "user_tz": -300
    },
    "id": "lcF5hUjCxM1U"
   },
   "outputs": [],
   "source": [
    "import pandas as pd\n",
    "import numpy as np\n",
    "import matplotlib.pyplot as plt\n",
    "import seaborn as sns\n",
    "from sklearn.model_selection import train_test_split\n",
    "from sklearn.metrics import accuracy_score, classification_report, confusion_matrix, f1_score\n",
    "from sklearn.linear_model import LogisticRegression\n",
    "from sklearn.tree import DecisionTreeClassifier\n",
    "from sklearn.neighbors import KNeighborsClassifier\n",
    "from sklearn.preprocessing import LabelEncoder\n",
    "from tensorflow.keras.models import Sequential\n",
    "from tensorflow.keras.layers import Dense, Conv1D, Flatten, MaxPooling1D, Dropout\n",
    "from matplotlib.animation import FuncAnimation\n",
    "from IPython.display import HTML\n",
    "import joblib\n",
    "import os\n",
    "import time\n",
    "import warnings\n",
    "warnings.filterwarnings('ignore')"
   ]
  },
  {
   "cell_type": "markdown",
   "metadata": {
    "id": "3XjE39rqAZgT"
   },
   "source": [
    "# Data Preprocessing\n"
   ]
  },
  {
   "cell_type": "code",
   "execution_count": null,
   "metadata": {
    "executionInfo": {
     "elapsed": 7741,
     "status": "ok",
     "timestamp": 1748674732648,
     "user": {
      "displayName": "Umar Aftab",
      "userId": "07956869396390363126"
     },
     "user_tz": -300
    },
    "id": "U-C666mDxOf7"
   },
   "outputs": [],
   "source": [
    "df = pd.read_csv('Dataset - Diseases and Symptoms.csv')"
   ]
  },
  {
   "cell_type": "markdown",
   "metadata": {
    "id": "jz10a1NoAnhc"
   },
   "source": [
    "### Working with Null Values\n"
   ]
  },
  {
   "cell_type": "code",
   "execution_count": null,
   "metadata": {
    "colab": {
     "base_uri": "https://localhost:8080/"
    },
    "executionInfo": {
     "elapsed": 2384,
     "status": "ok",
     "timestamp": 1748674735022,
     "user": {
      "displayName": "Umar Aftab",
      "userId": "07956869396390363126"
     },
     "user_tz": -300
    },
    "id": "vadWgQZixWik",
    "outputId": "90972ec0-5f3f-40f7-e12b-81ca34beec80"
   },
   "outputs": [],
   "source": [
    "null_rows_count = df.isnull().any(axis=1).sum()\n",
    "\n",
    "null_ratio = null_rows_count / len(df)\n",
    "\n",
    "print(\"Total Rows with Null Values:\", null_rows_count)\n",
    "print(\"Null Values Ratio:\", null_ratio)\n",
    "print(\"Duplicated Rows: \",df.duplicated().sum())"
   ]
  },
  {
   "cell_type": "code",
   "execution_count": null,
   "metadata": {
    "executionInfo": {
     "elapsed": 1913,
     "status": "ok",
     "timestamp": 1748674736937,
     "user": {
      "displayName": "Umar Aftab",
      "userId": "07956869396390363126"
     },
     "user_tz": -300
    },
    "id": "Z0RBTN5axZSL"
   },
   "outputs": [],
   "source": [
    "df_without_duplicate = df.drop_duplicates()"
   ]
  },
  {
   "cell_type": "code",
   "execution_count": null,
   "metadata": {
    "colab": {
     "base_uri": "https://localhost:8080/"
    },
    "executionInfo": {
     "elapsed": 917,
     "status": "ok",
     "timestamp": 1748674737858,
     "user": {
      "displayName": "Umar Aftab",
      "userId": "07956869396390363126"
     },
     "user_tz": -300
    },
    "id": "LN4cBUWrxd8A",
    "outputId": "235d0d0e-d1f5-4f13-df98-392a307fbdeb"
   },
   "outputs": [],
   "source": [
    "null_rows_count = df_without_duplicate.isnull().any(axis=1).sum()\n",
    "\n",
    "null_ratio = null_rows_count / len(df_without_duplicate)\n",
    "\n",
    "print(\"Total Rows with Null Values:\", null_rows_count)\n",
    "print(\"Null Values Ratio:\", null_ratio)\n",
    "print(\"Duplicated Rows: \",df_without_duplicate.duplicated().sum())"
   ]
  },
  {
   "cell_type": "code",
   "execution_count": null,
   "metadata": {
    "executionInfo": {
     "elapsed": 349,
     "status": "ok",
     "timestamp": 1748674738204,
     "user": {
      "displayName": "Umar Aftab",
      "userId": "07956869396390363126"
     },
     "user_tz": -300
    },
    "id": "QsIZh576xfv8"
   },
   "outputs": [],
   "source": [
    "symptoms_without_duplicate = df.drop(columns=['diseases'])\n",
    "diseases_without_duplicate = df['diseases'].value_counts()"
   ]
  },
  {
   "cell_type": "code",
   "execution_count": null,
   "metadata": {
    "colab": {
     "base_uri": "https://localhost:8080/"
    },
    "executionInfo": {
     "elapsed": 214,
     "status": "ok",
     "timestamp": 1748674738420,
     "user": {
      "displayName": "Umar Aftab",
      "userId": "07956869396390363126"
     },
     "user_tz": -300
    },
    "id": "d6VDTC_dxi_h",
    "outputId": "632e910c-2833-400c-bdf6-34395442654d"
   },
   "outputs": [],
   "source": [
    "most_common_symptoms_without_duplicate = symptoms_without_duplicate.sum().sort_values(ascending=False)\n",
    "print(\"Symtoms Count: \", most_common_symptoms_without_duplicate.count())\n",
    "print((most_common_symptoms_without_duplicate).to_string())"
   ]
  },
  {
   "cell_type": "code",
   "execution_count": null,
   "metadata": {
    "colab": {
     "base_uri": "https://localhost:8080/"
    },
    "executionInfo": {
     "elapsed": 318,
     "status": "ok",
     "timestamp": 1748674738741,
     "user": {
      "displayName": "Umar Aftab",
      "userId": "07956869396390363126"
     },
     "user_tz": -300
    },
    "id": "8gIYNWkXxlFM",
    "outputId": "e8f6bacf-1ff0-448a-d9b9-b089012d9fdc"
   },
   "outputs": [],
   "source": [
    "print(\"Disease Count: \", diseases_without_duplicate.count())\n",
    "print((diseases_without_duplicate).to_string())"
   ]
  },
  {
   "cell_type": "markdown",
   "metadata": {
    "id": "0g4Kqls-Ah1o"
   },
   "source": [
    "### Feature Engineering\n"
   ]
  },
  {
   "cell_type": "code",
   "execution_count": null,
   "metadata": {
    "executionInfo": {
     "elapsed": 45,
     "status": "ok",
     "timestamp": 1748674738790,
     "user": {
      "displayName": "Umar Aftab",
      "userId": "07956869396390363126"
     },
     "user_tz": -300
    },
    "id": "_yQvTTIexn6y"
   },
   "outputs": [],
   "source": [
    "redundant_symptoms = symptoms_without_duplicate.loc[:, symptoms_without_duplicate.sum() < 10]"
   ]
  },
  {
   "cell_type": "code",
   "execution_count": null,
   "metadata": {
    "colab": {
     "base_uri": "https://localhost:8080/",
     "height": 513
    },
    "executionInfo": {
     "elapsed": 44,
     "status": "ok",
     "timestamp": 1748674738841,
     "user": {
      "displayName": "Umar Aftab",
      "userId": "07956869396390363126"
     },
     "user_tz": -300
    },
    "id": "8KpsnAfXxrIH",
    "outputId": "c50590fc-f008-431d-86ca-71824f96366f"
   },
   "outputs": [],
   "source": [
    "redundant_symptoms"
   ]
  },
  {
   "cell_type": "code",
   "execution_count": null,
   "metadata": {
    "executionInfo": {
     "elapsed": 13,
     "status": "ok",
     "timestamp": 1748674738848,
     "user": {
      "displayName": "Umar Aftab",
      "userId": "07956869396390363126"
     },
     "user_tz": -300
    },
    "id": "OBUPwzoBxsOX"
   },
   "outputs": [],
   "source": [
    "cleaned_data = df_without_duplicate.drop(columns=list(redundant_symptoms.columns))"
   ]
  },
  {
   "cell_type": "code",
   "execution_count": null,
   "metadata": {
    "colab": {
     "base_uri": "https://localhost:8080/"
    },
    "executionInfo": {
     "elapsed": 44,
     "status": "ok",
     "timestamp": 1748674738896,
     "user": {
      "displayName": "Umar Aftab",
      "userId": "07956869396390363126"
     },
     "user_tz": -300
    },
    "id": "c3meBCqRxxHK",
    "outputId": "b28275eb-6ec8-405e-92e8-802eb31d1c80"
   },
   "outputs": [],
   "source": [
    "print(cleaned_data.info())\n",
    "print('Shape:',cleaned_data.shape)"
   ]
  },
  {
   "cell_type": "code",
   "execution_count": null,
   "metadata": {
    "colab": {
     "base_uri": "https://localhost:8080/"
    },
    "executionInfo": {
     "elapsed": 19,
     "status": "ok",
     "timestamp": 1748674738918,
     "user": {
      "displayName": "Umar Aftab",
      "userId": "07956869396390363126"
     },
     "user_tz": -300
    },
    "id": "gDjqQJVcyFBn",
    "outputId": "63d8568a-2e02-41da-a1e5-8c31a60bc9d3"
   },
   "outputs": [],
   "source": [
    "disease_counts_cleaned = cleaned_data['diseases'].value_counts()\n",
    "\n",
    "diseases_to_drop = disease_counts_cleaned[disease_counts_cleaned < 10].index\n",
    "\n",
    "print(\"Diseases with count less than 10:\")\n",
    "print(disease_counts_cleaned[diseases_to_drop])"
   ]
  },
  {
   "cell_type": "code",
   "execution_count": null,
   "metadata": {
    "colab": {
     "base_uri": "https://localhost:8080/"
    },
    "executionInfo": {
     "elapsed": 227,
     "status": "ok",
     "timestamp": 1748674739147,
     "user": {
      "displayName": "Umar Aftab",
      "userId": "07956869396390363126"
     },
     "user_tz": -300
    },
    "id": "nGIk2l8byPmO",
    "outputId": "f3819f03-0877-4473-8f65-8dce319b4bed"
   },
   "outputs": [],
   "source": [
    "cleaned_data = cleaned_data[~cleaned_data['diseases'].isin(diseases_to_drop)].reset_index(drop=True)\n",
    "\n",
    "print(\"\\nShape after dropping diseases with count less than 10:\", cleaned_data.shape)\n",
    "print(\"\\nInfo after dropping diseases with count less than 10:\")\n",
    "print(cleaned_data.info())"
   ]
  },
  {
   "cell_type": "code",
   "execution_count": null,
   "metadata": {
    "colab": {
     "base_uri": "https://localhost:8080/"
    },
    "executionInfo": {
     "elapsed": 23,
     "status": "ok",
     "timestamp": 1748674739148,
     "user": {
      "displayName": "Umar Aftab",
      "userId": "07956869396390363126"
     },
     "user_tz": -300
    },
    "id": "yzn-BS3UyTh4",
    "outputId": "37e44f54-2d38-46c1-9a7f-ad3158f8966a"
   },
   "outputs": [],
   "source": [
    "cleaned_data.info()"
   ]
  },
  {
   "cell_type": "code",
   "execution_count": null,
   "metadata": {
    "colab": {
     "base_uri": "https://localhost:8080/"
    },
    "executionInfo": {
     "elapsed": 20,
     "status": "ok",
     "timestamp": 1748674739161,
     "user": {
      "displayName": "Umar Aftab",
      "userId": "07956869396390363126"
     },
     "user_tz": -300
    },
    "id": "oa2EaSXq1c-n",
    "outputId": "e37cae7a-4df1-4d7a-9c0a-a46faf4f2f63"
   },
   "outputs": [],
   "source": [
    "cleaned_data.shape"
   ]
  },
  {
   "cell_type": "code",
   "execution_count": null,
   "metadata": {
    "executionInfo": {
     "elapsed": 16024,
     "status": "ok",
     "timestamp": 1748674755227,
     "user": {
      "displayName": "Umar Aftab",
      "userId": "07956869396390363126"
     },
     "user_tz": -300
    },
    "id": "nCrui_GPDiTv"
   },
   "outputs": [],
   "source": [
    "cleaned_data.to_csv('cleaned_data.csv', index=False)"
   ]
  },
  {
   "cell_type": "markdown",
   "metadata": {
    "id": "Fh17Eqh0AyDa"
   },
   "source": [
    "# Data Visualization\n"
   ]
  },
  {
   "cell_type": "code",
   "execution_count": null,
   "metadata": {
    "colab": {
     "base_uri": "https://localhost:8080/",
     "height": 607
    },
    "executionInfo": {
     "elapsed": 1456,
     "status": "ok",
     "timestamp": 1748674756677,
     "user": {
      "displayName": "Umar Aftab",
      "userId": "07956869396390363126"
     },
     "user_tz": -300
    },
    "id": "J3joGV5l1n3h",
    "outputId": "d09569b5-cf20-458f-a1de-7e74753bb379"
   },
   "outputs": [],
   "source": [
    "plt.figure(figsize=(12, 6))\n",
    "symptom_sums = cleaned_data.drop(columns=['diseases']).sum().sort_values(ascending=False)\n",
    "top_10_symptoms = symptom_sums.head(20)\n",
    "sns.barplot(x=top_10_symptoms.values, y=top_10_symptoms.index, palette='magma')\n",
    "plt.title('Top 10 Most Common Symptoms')\n",
    "plt.xlabel('Frequency')\n",
    "plt.ylabel('Symptom')\n",
    "plt.tight_layout()\n",
    "plt.savefig('top_10_symptoms.png')\n",
    "plt.show()"
   ]
  },
  {
   "cell_type": "code",
   "execution_count": null,
   "metadata": {
    "colab": {
     "base_uri": "https://localhost:8080/",
     "height": 607
    },
    "executionInfo": {
     "elapsed": 1285,
     "status": "ok",
     "timestamp": 1748674757918,
     "user": {
      "displayName": "Umar Aftab",
      "userId": "07956869396390363126"
     },
     "user_tz": -300
    },
    "id": "2F_rxX714TuA",
    "outputId": "ae0958f2-4eb6-4396-8e83-6b5dec54711c"
   },
   "outputs": [],
   "source": [
    "disease_counts = cleaned_data['diseases'].value_counts()\n",
    "\n",
    "top_5 = disease_counts.head(10)\n",
    "bottom_5 = disease_counts.tail(10)\n",
    "\n",
    "combined_counts = pd.concat([top_5, bottom_5])\n",
    "\n",
    "colors = sns.color_palette('viridis', n_colors=10)\n",
    "\n",
    "plt.figure(figsize=(12, 6))\n",
    "sns.barplot(x=combined_counts.index, y=combined_counts.values, palette=colors)\n",
    "plt.title('Top 5 and Lowest 5 Diseases by Frequency')\n",
    "plt.xlabel('Disease')\n",
    "plt.ylabel('Count')\n",
    "plt.xticks(rotation=45, ha='right')\n",
    "\n",
    "plt.grid(axis='y', linestyle='--', alpha=0.7)\n",
    "\n",
    "plt.tight_layout()\n",
    "\n",
    "for i, count in enumerate(combined_counts.values):\n",
    "    plt.text(i, count + 0.5, str(count), ha='center', va='bottom', fontsize=10)\n",
    "\n",
    "plt.savefig('top_bottom_diseases.png')\n",
    "plt.show()"
   ]
  },
  {
   "cell_type": "code",
   "execution_count": null,
   "metadata": {
    "colab": {
     "base_uri": "https://localhost:8080/",
     "height": 807
    },
    "executionInfo": {
     "elapsed": 909,
     "status": "ok",
     "timestamp": 1748674758818,
     "user": {
      "displayName": "Umar Aftab",
      "userId": "07956869396390363126"
     },
     "user_tz": -300
    },
    "id": "HElJhOQ54TqI",
    "outputId": "6f8baaf6-62b8-4a45-ee19-c667063d2f42"
   },
   "outputs": [],
   "source": [
    "plt.figure(figsize=(10, 8))\n",
    "symptom_counts = cleaned_data.drop(columns=['diseases']).sum(axis=1)\n",
    "sns.boxplot(y=symptom_counts, color='#66c2a5')\n",
    "plt.title('Distribution of Symptom Counts per Disease Instance')\n",
    "plt.ylabel('Number of Symptoms')\n",
    "plt.xlabel('All Diseases')\n",
    "plt.grid(True, linestyle='--', alpha=0.7)\n",
    "plt.tight_layout()\n",
    "plt.savefig('symptom_counts_boxplot.png')\n",
    "plt.show()"
   ]
  },
  {
   "cell_type": "code",
   "execution_count": null,
   "metadata": {
    "colab": {
     "base_uri": "https://localhost:8080/",
     "height": 807
    },
    "executionInfo": {
     "elapsed": 1251,
     "status": "ok",
     "timestamp": 1748674760071,
     "user": {
      "displayName": "Umar Aftab",
      "userId": "07956869396390363126"
     },
     "user_tz": -300
    },
    "id": "ffWrvTos4TmI",
    "outputId": "7c248390-fd88-45dc-b925-ad4c91c57c9d"
   },
   "outputs": [],
   "source": [
    "plt.figure(figsize=(12, 8))\n",
    "disease_freq = cleaned_data['diseases'].value_counts()\n",
    "symptom_sums = cleaned_data.groupby('diseases').sum().drop(columns=['diseases'], errors='ignore')\n",
    "avg_symptoms = symptom_sums.mean(axis=1)\n",
    "unique_symptoms = symptom_sums.gt(0).sum(axis=1)\n",
    "bubble_data = pd.DataFrame({\n",
    "    'Frequency': disease_freq,\n",
    "    'Avg_Symptoms': avg_symptoms,\n",
    "    'Unique_Symptoms': unique_symptoms\n",
    "}).reset_index()\n",
    "\n",
    "sns.scatterplot(data=bubble_data, x='Frequency', y='Avg_Symptoms', size='Unique_Symptoms', sizes=(50, 500), alpha=0.6, hue='Unique_Symptoms', palette='viridis')\n",
    "plt.title('Disease Frequency vs. Average Symptom Count')\n",
    "plt.xlabel('Disease Frequency')\n",
    "plt.ylabel('Average Number of Symptoms')\n",
    "plt.grid(True, linestyle='--', alpha=0.7)\n",
    "\n",
    "plt.tight_layout()\n",
    "plt.savefig('disease_freq_symptom_bubble.png')\n",
    "plt.show()"
   ]
  },
  {
   "cell_type": "markdown",
   "metadata": {
    "id": "j9g8aZ-aB48f"
   },
   "source": [
    "# Model Development\n"
   ]
  },
  {
   "cell_type": "code",
   "execution_count": null,
   "metadata": {},
   "outputs": [],
   "source": [
    "cleaned_data = pd.read_csv('cleaned_data.csv')"
   ]
  },
  {
   "cell_type": "code",
   "execution_count": null,
   "metadata": {
    "executionInfo": {
     "elapsed": 49,
     "status": "ok",
     "timestamp": 1748674760139,
     "user": {
      "displayName": "Umar Aftab",
      "userId": "07956869396390363126"
     },
     "user_tz": -300
    },
    "id": "PS7KxxKEzGlI"
   },
   "outputs": [],
   "source": [
    "X = cleaned_data.drop(columns=['diseases'])\n",
    "y = cleaned_data['diseases']"
   ]
  },
  {
   "cell_type": "code",
   "execution_count": null,
   "metadata": {
    "colab": {
     "base_uri": "https://localhost:8080/"
    },
    "executionInfo": {
     "elapsed": 385,
     "status": "ok",
     "timestamp": 1748674760532,
     "user": {
      "displayName": "Umar Aftab",
      "userId": "07956869396390363126"
     },
     "user_tz": -300
    },
    "id": "Q5cSxsgnDxfu",
    "outputId": "2c0b9419-640b-484c-b212-9c6113e25177"
   },
   "outputs": [],
   "source": [
    "X.columns.to_series().to_csv('symptoms.csv', index=False, header=False)\n",
    "print(\"CSV file 'symptoms.csv' created successfully.\")"
   ]
  },
  {
   "cell_type": "code",
   "execution_count": null,
   "metadata": {
    "colab": {
     "base_uri": "https://localhost:8080/"
    },
    "executionInfo": {
     "elapsed": 175,
     "status": "ok",
     "timestamp": 1748674760722,
     "user": {
      "displayName": "Umar Aftab",
      "userId": "07956869396390363126"
     },
     "user_tz": -300
    },
    "id": "GwGnMCDxzNB9",
    "outputId": "5ad9474d-b5f1-43a3-efd1-ce3726a57bba"
   },
   "outputs": [],
   "source": [
    "label_encoder = LabelEncoder()\n",
    "y_encoded = label_encoder.fit_transform(y)\n",
    "print(f\"Target encoded. Number of classes: {len(label_encoder.classes_)}\")"
   ]
  },
  {
   "cell_type": "code",
   "execution_count": null,
   "metadata": {
    "executionInfo": {
     "elapsed": 141,
     "status": "ok",
     "timestamp": 1748674760873,
     "user": {
      "displayName": "Umar Aftab",
      "userId": "07956869396390363126"
     },
     "user_tz": -300
    },
    "id": "jTWZZ_VVzVue"
   },
   "outputs": [],
   "source": [
    "disease_mapping = dict(zip(label_encoder.transform(label_encoder.classes_), label_encoder.classes_))\n",
    "mapping_df = pd.DataFrame(list(disease_mapping.items()), columns=['Encoded', 'Disease'])\n",
    "mapping_df.to_csv(f'disease_mapping.csv', index=False)"
   ]
  },
  {
   "cell_type": "code",
   "execution_count": null,
   "metadata": {
    "executionInfo": {
     "elapsed": 743,
     "status": "ok",
     "timestamp": 1748674761621,
     "user": {
      "displayName": "Umar Aftab",
      "userId": "07956869396390363126"
     },
     "user_tz": -300
    },
    "id": "ov4M6f6wzaCh"
   },
   "outputs": [],
   "source": [
    "X_train, X_test, y_train, y_test = train_test_split(X, y_encoded, test_size=0.2, random_state=42, stratify=y_encoded)"
   ]
  },
  {
   "cell_type": "code",
   "execution_count": null,
   "metadata": {
    "colab": {
     "base_uri": "https://localhost:8080/"
    },
    "executionInfo": {
     "elapsed": 28,
     "status": "ok",
     "timestamp": 1748674761669,
     "user": {
      "displayName": "Umar Aftab",
      "userId": "07956869396390363126"
     },
     "user_tz": -300
    },
    "id": "ZOJGqFZGzikb",
    "outputId": "ac5524cd-1277-4ab4-ecd2-e742cc3d034d"
   },
   "outputs": [],
   "source": [
    "print(f\"Training set: {X_train.shape[0]} samples, Test set: {X_test.shape[0]} samples\")"
   ]
  },
  {
   "cell_type": "markdown",
   "metadata": {
    "id": "Hw1OMpP7B8Mg"
   },
   "source": [
    "### Logistic Regression\n"
   ]
  },
  {
   "cell_type": "code",
   "execution_count": null,
   "metadata": {
    "executionInfo": {
     "elapsed": 29,
     "status": "ok",
     "timestamp": 1748674761701,
     "user": {
      "displayName": "Umar Aftab",
      "userId": "07956869396390363126"
     },
     "user_tz": -300
    },
    "id": "ptj6QhqGzwua"
   },
   "outputs": [],
   "source": [
    "# print(\"\\nTraining Logistic Regression...\")\n",
    "# start_time = time.time()\n",
    "# lr_model = LogisticRegression(max_iter=500, solver='saga',\n",
    "#                               multi_class='multinomial', n_jobs=-1, random_state=42)\n",
    "# lr_model.fit(X_train, y_train)\n",
    "# lr_time = time.time() - start_time\n",
    "# print(f\"Training time: {lr_time:.2f} seconds\")"
   ]
  },
  {
   "cell_type": "code",
   "execution_count": null,
   "metadata": {
    "executionInfo": {
     "elapsed": 3,
     "status": "ok",
     "timestamp": 1748674761707,
     "user": {
      "displayName": "Umar Aftab",
      "userId": "07956869396390363126"
     },
     "user_tz": -300
    },
    "id": "rKy6kvNraETE"
   },
   "outputs": [],
   "source": [
    "# joblib.dump(lr_model, f\"/content/drive/Othercomputers/My Laptop/Projects/intelligent-paitent-diagnostic-system/logistic_regression_model.joblib\")"
   ]
  },
  {
   "cell_type": "markdown",
   "metadata": {
    "id": "-KKvcKhaB_pr"
   },
   "source": [
    "### Decision Tree\n"
   ]
  },
  {
   "cell_type": "code",
   "execution_count": null,
   "metadata": {
    "executionInfo": {
     "elapsed": 21,
     "status": "ok",
     "timestamp": 1748674761733,
     "user": {
      "displayName": "Umar Aftab",
      "userId": "07956869396390363126"
     },
     "user_tz": -300
    },
    "id": "LJQQFZ-Y06dZ"
   },
   "outputs": [],
   "source": [
    "# print(\"\\nTraining Decision Tree Classifier...\")\n",
    "# start_time = time.time()\n",
    "# dt_model = DecisionTreeClassifier(random_state=42)\n",
    "# dt_model.fit(X_train, y_train)\n",
    "# dt_time = time.time() - start_time\n",
    "# print(f\"Training time: {dt_time:.2f} seconds\")"
   ]
  },
  {
   "cell_type": "code",
   "execution_count": null,
   "metadata": {
    "executionInfo": {
     "elapsed": 33,
     "status": "ok",
     "timestamp": 1748674761773,
     "user": {
      "displayName": "Umar Aftab",
      "userId": "07956869396390363126"
     },
     "user_tz": -300
    },
    "id": "d0eoCbpgaHQw"
   },
   "outputs": [],
   "source": [
    "# joblib.dump(dt_model, f\"/content/drive/Othercomputers/My Laptop/Projects/intelligent-paitent-diagnostic-system/decision_tree_model.joblib\")"
   ]
  },
  {
   "cell_type": "markdown",
   "metadata": {
    "id": "I1REIYE6CCVM"
   },
   "source": [
    "### K-Nearest Neighbors\n"
   ]
  },
  {
   "cell_type": "code",
   "execution_count": null,
   "metadata": {
    "executionInfo": {
     "elapsed": 6,
     "status": "ok",
     "timestamp": 1748674761776,
     "user": {
      "displayName": "Umar Aftab",
      "userId": "07956869396390363126"
     },
     "user_tz": -300
    },
    "id": "oS5szRcD1h2d"
   },
   "outputs": [],
   "source": [
    "# print(\"\\nTraining K-Nearest Neighbors Classifier...\")\n",
    "# start_time = time.time()\n",
    "# knn_model = KNeighborsClassifier(n_neighbors=7)\n",
    "# knn_model.fit(X_train, y_train)\n",
    "# knn_time = time.time() - start_time\n",
    "# print(f\"Training time: {knn_time:.2f} seconds\")"
   ]
  },
  {
   "cell_type": "code",
   "execution_count": null,
   "metadata": {
    "executionInfo": {
     "elapsed": 3,
     "status": "ok",
     "timestamp": 1748674761783,
     "user": {
      "displayName": "Umar Aftab",
      "userId": "07956869396390363126"
     },
     "user_tz": -300
    },
    "id": "RTDRKKU5aJIG"
   },
   "outputs": [],
   "source": [
    "# joblib.dump(knn_model, f\"/content/drive/Othercomputers/My Laptop/Projects/intelligent-paitent-diagnostic-system/knn_model.joblib\")"
   ]
  },
  {
   "cell_type": "markdown",
   "metadata": {},
   "source": [
    "### 1D-CNN\n"
   ]
  },
  {
   "cell_type": "code",
   "execution_count": null,
   "metadata": {},
   "outputs": [],
   "source": [
    "X_train_dl = X_train.values.reshape((X_train.shape[0], X_train.shape[1], 1))\n",
    "X_test_dl = X_test.values.reshape((X_test.shape[0], X_test.shape[1], 1))"
   ]
  },
  {
   "cell_type": "code",
   "execution_count": null,
   "metadata": {},
   "outputs": [],
   "source": [
    "model = Sequential([\n",
    "    Conv1D(32, 3, activation='relu', input_shape=(X.shape[1], 1)),\n",
    "    MaxPooling1D(2),\n",
    "    Dropout(0.2),\n",
    "    Conv1D(64, 3, activation='relu'),\n",
    "    MaxPooling1D(2),\n",
    "    Flatten(),\n",
    "    Dense(64, activation='relu'),\n",
    "    Dropout(0.2),\n",
    "    Dense(len(label_encoder.classes_), activation='softmax')\n",
    "])\n",
    "\n",
    "model.compile(optimizer='adam', loss='sparse_categorical_crossentropy', metrics=['accuracy'])"
   ]
  },
  {
   "cell_type": "code",
   "execution_count": null,
   "metadata": {},
   "outputs": [],
   "source": [
    "history = model.fit(X_train, y_train, epochs=200, batch_size=64, validation_split=0.2)"
   ]
  },
  {
   "cell_type": "code",
   "execution_count": null,
   "metadata": {},
   "outputs": [],
   "source": [
    "model.save('cnn_model.h5')\n",
    "print(\"Model saved successfully!\")"
   ]
  },
  {
   "cell_type": "markdown",
   "metadata": {
    "id": "IfgPc78JCJ3D"
   },
   "source": [
    "### Confusion Matrix\n"
   ]
  },
  {
   "cell_type": "code",
   "execution_count": null,
   "metadata": {
    "executionInfo": {
     "elapsed": 2,
     "status": "ok",
     "timestamp": 1748674761789,
     "user": {
      "displayName": "Umar Aftab",
      "userId": "07956869396390363126"
     },
     "user_tz": -300
    },
    "id": "ox1oiTSV0iT6"
   },
   "outputs": [],
   "source": [
    "def plot_simplified_cm(y_true, y_pred, model_name):\n",
    "    unique_diseases = np.unique(np.concatenate([y_true, y_pred]))\n",
    "    num_diseases_to_show = min(40, len(unique_diseases))\n",
    "\n",
    "    disease_counts = pd.Series(y_true).value_counts()\n",
    "    diseases_to_show = disease_counts.head(num_diseases_to_show).index\n",
    "\n",
    "    cm = confusion_matrix(y_true, y_pred, labels=diseases_to_show)\n",
    "\n",
    "    plt.figure(figsize=(12, 10))\n",
    "    sns.heatmap(cm, annot=True, fmt='d', cmap='RdBu', center=0,\n",
    "                xticklabels=[label_encoder.classes_[i] for i in diseases_to_show],\n",
    "                yticklabels=[label_encoder.classes_[i] for i in diseases_to_show])\n",
    "    plt.title(f'{model_name} - Confusion Matrix (Top {num_diseases_to_show} Diseases)')\n",
    "    plt.xlabel('Predicted')\n",
    "    plt.ylabel('True')\n",
    "    plt.xticks(rotation=90)\n",
    "    plt.yticks(rotation=0)\n",
    "    plt.tight_layout()\n",
    "    plt.savefig(f'{model_name.replace(' ', '_').lower()}_confusion_matrix.png')\n",
    "    plt.show()"
   ]
  },
  {
   "cell_type": "markdown",
   "metadata": {},
   "source": [
    "### Training and Validation Accuracy Comparision (1D-CNN)\n"
   ]
  },
  {
   "cell_type": "code",
   "execution_count": null,
   "metadata": {},
   "outputs": [],
   "source": [
    "import numpy as np\n",
    "import matplotlib.pyplot as plt\n",
    "\n",
    "train_acc = history.history['accuracy']\n",
    "val_acc = history.history.get('val_accuracy')\n",
    "\n",
    "epochs = np.arange(1, len(train_acc) + 1)\n",
    "mean_train = np.mean(train_acc)\n",
    "mean_val = np.mean(val_acc) if val_acc else None\n",
    "\n",
    "fig, ax = plt.subplots(figsize=(10, 6))\n",
    "ax.set_xlim(0.5, len(epochs) + 0.5)\n",
    "ax.set_ylim(0, 1.05)\n",
    "ax.set_xlabel('Epoch')\n",
    "ax.set_ylabel('Accuracy')\n",
    "ax.set_title('Human Vitals 1D-CNN Accuracy')\n",
    "ax.grid(True)\n",
    "\n",
    "line_train, = ax.plot([], [], label='Train Accuracy', color='blue')\n",
    "line_val, = ax.plot([], [], label='Validation Accuracy', color='green') if val_acc else (None,)\n",
    "mean_line_train = ax.axhline(mean_train, color='blue', linestyle='--', alpha=0.5, label='Train Mean')\n",
    "mean_line_val = ax.axhline(mean_val, color='green', linestyle='--', alpha=0.5, label='Val Mean') if val_acc else None\n",
    "\n",
    "ax.legend()\n",
    "\n",
    "def init():\n",
    "    line_train.set_data([], [])\n",
    "    if val_acc:\n",
    "        line_val.set_data([], [])\n",
    "    return (line_train, line_val) if val_acc else (line_train,)\n",
    "\n",
    "def update(frame):\n",
    "    line_train.set_data(epochs[:frame + 1], train_acc[:frame + 1])\n",
    "    if val_acc:\n",
    "        line_val.set_data(epochs[:frame + 1], val_acc[:frame + 1])\n",
    "        return line_train, line_val\n",
    "    return line_train,\n",
    "\n",
    "ani = FuncAnimation(fig, update, frames=len(epochs), init_func=init, blit=True, interval=100)\n",
    "\n",
    "ani.save('cnn_accuracy_animation.gif', writer='pillow')\n",
    "\n",
    "plt.close()\n",
    "HTML(ani.to_jshtml())"
   ]
  },
  {
   "cell_type": "markdown",
   "metadata": {
    "id": "JoCNJmprCd_-"
   },
   "source": [
    "# Testing ML Models\n"
   ]
  },
  {
   "cell_type": "code",
   "execution_count": null,
   "metadata": {
    "executionInfo": {
     "elapsed": 44,
     "status": "ok",
     "timestamp": 1748674761925,
     "user": {
      "displayName": "Umar Aftab",
      "userId": "07956869396390363126"
     },
     "user_tz": -300
    },
    "id": "OwNhf14if54c"
   },
   "outputs": [],
   "source": [
    "testing_data = cleaned_data.sample(15)\n",
    "test_sym_map = {}\n",
    "\n",
    "for index, row in testing_data.iterrows():\n",
    "  sym_list = []\n",
    "  for column in testing_data.columns:\n",
    "    if row[column] == 1 and column != 'diseases':\n",
    "      sym_list.append(column)\n",
    "\n",
    "  disease_name = row['diseases']\n",
    "  test_sym_map[disease_name] = sym_list"
   ]
  },
  {
   "cell_type": "code",
   "execution_count": null,
   "metadata": {
    "executionInfo": {
     "elapsed": 12964,
     "status": "ok",
     "timestamp": 1748674774894,
     "user": {
      "displayName": "Umar Aftab",
      "userId": "07956869396390363126"
     },
     "user_tz": -300
    },
    "id": "J-sSdYv_gRsD"
   },
   "outputs": [],
   "source": [
    "lr_testing = joblib.load('logistic_regression_model.joblib')\n",
    "knn_testing = joblib.load('knn_model.joblib')\n",
    "dt_testing = joblib.load('decision_tree_model.joblib')\n",
    "cnn_testing = tf.keras.models.load_model(os.path.join('cnn_model.h5'))"
   ]
  },
  {
   "cell_type": "code",
   "execution_count": null,
   "metadata": {
    "executionInfo": {
     "elapsed": 28,
     "status": "ok",
     "timestamp": 1748674774904,
     "user": {
      "displayName": "Umar Aftab",
      "userId": "07956869396390363126"
     },
     "user_tz": -300
    },
    "id": "wMrA7o-HjmPg"
   },
   "outputs": [],
   "source": [
    "encoded_disease = pd.read_csv('disease_mapping.csv')"
   ]
  },
  {
   "cell_type": "markdown",
   "metadata": {
    "id": "C8fSAqBkCic4"
   },
   "source": [
    "### Testing Logistic Regression\n"
   ]
  },
  {
   "cell_type": "code",
   "execution_count": null,
   "metadata": {
    "colab": {
     "base_uri": "https://localhost:8080/"
    },
    "executionInfo": {
     "elapsed": 118,
     "status": "ok",
     "timestamp": 1748674775025,
     "user": {
      "displayName": "Umar Aftab",
      "userId": "07956869396390363126"
     },
     "user_tz": -300
    },
    "id": "qkG2LnLpmaGN",
    "outputId": "ab88945a-f5c5-4540-c96f-661befc7079d"
   },
   "outputs": [],
   "source": [
    "actual_labels = []\n",
    "predicted_labels = []\n",
    "\n",
    "print('Logistics Regression Testing: ')\n",
    "\n",
    "for i in range(len(testing_data)):\n",
    "  disease_name = testing_data.iloc[i]['diseases']\n",
    "\n",
    "  pred_series = testing_data.iloc[i].drop('diseases')\n",
    "  pred_df = pd.DataFrame([pred_series])\n",
    "\n",
    "  predictions = lr_testing.predict(pred_df)\n",
    "\n",
    "  predicted_class_index = predictions[0]\n",
    "  predicted_disease_name = encoded_disease.loc[encoded_disease['Encoded'] == predicted_class_index]['Disease'].iloc[0]\n",
    "\n",
    "  actual_labels.append(disease_name)\n",
    "  predicted_labels.append(predicted_disease_name)\n",
    "\n",
    "  confidence_scores = lr_testing.predict_proba(pred_df)\n",
    "  confidence_of_predicted_class = confidence_scores[0][predicted_class_index]\n",
    "  print(f'Actual Disease: {disease_name}, Predicted Disease: {predicted_disease_name}, Confidence: {confidence_of_predicted_class:.4f}')\n",
    "  print('=============================================================================================================================')"
   ]
  },
  {
   "cell_type": "code",
   "execution_count": null,
   "metadata": {
    "colab": {
     "base_uri": "https://localhost:8080/"
    },
    "executionInfo": {
     "elapsed": 1041,
     "status": "ok",
     "timestamp": 1748674776090,
     "user": {
      "displayName": "Umar Aftab",
      "userId": "07956869396390363126"
     },
     "user_tz": -300
    },
    "id": "TlwEBJPQqCCA",
    "outputId": "2e80755e-cb20-4217-ae8e-fb831ddd5ebf"
   },
   "outputs": [],
   "source": [
    "lr_pred = lr_testing.predict(X_test)\n",
    "lr_accuracy = accuracy_score(y_test, lr_pred)\n",
    "lr_f1_score = f1_score(y_test, lr_pred, average='weighted')\n",
    "print(f'Logistic Regression Accuracy: {lr_accuracy:.4f} | F1 Score: {lr_f1_score:.4f}')"
   ]
  },
  {
   "cell_type": "code",
   "execution_count": null,
   "metadata": {
    "colab": {
     "base_uri": "https://localhost:8080/",
     "height": 1000
    },
    "executionInfo": {
     "elapsed": 6778,
     "status": "ok",
     "timestamp": 1748674782871,
     "user": {
      "displayName": "Umar Aftab",
      "userId": "07956869396390363126"
     },
     "user_tz": -300
    },
    "id": "FEy3GU1EoGiM",
    "outputId": "555928cf-3c3b-4235-b205-c221bfed1aa0"
   },
   "outputs": [],
   "source": [
    "plot_simplified_cm(y_test, lr_pred, \"Logistic Regression\")"
   ]
  },
  {
   "cell_type": "markdown",
   "metadata": {
    "id": "xhb6knohCmjZ"
   },
   "source": [
    "### Testing K-Nearest Neighbors\n"
   ]
  },
  {
   "cell_type": "code",
   "execution_count": null,
   "metadata": {
    "colab": {
     "base_uri": "https://localhost:8080/"
    },
    "executionInfo": {
     "elapsed": 4141,
     "status": "ok",
     "timestamp": 1748674787021,
     "user": {
      "displayName": "Umar Aftab",
      "userId": "07956869396390363126"
     },
     "user_tz": -300
    },
    "id": "oIlbTMu1qpdQ",
    "outputId": "5e9c2240-59e9-40b9-81cf-88553c345702"
   },
   "outputs": [],
   "source": [
    "actual_labels = []\n",
    "predicted_labels = []\n",
    "\n",
    "print('K-Nearest Neighbors Testing: ')\n",
    "\n",
    "for i in range(len(testing_data)):\n",
    "  disease_name = testing_data.iloc[i]['diseases']\n",
    "\n",
    "  pred_series = testing_data.iloc[i].drop('diseases')\n",
    "  pred_df = pd.DataFrame([pred_series])\n",
    "\n",
    "  predictions = knn_testing.predict(pred_df)\n",
    "\n",
    "  predicted_class_index = predictions[0]\n",
    "  predicted_disease_name = encoded_disease.loc[encoded_disease['Encoded'] == predicted_class_index]['Disease'].iloc[0]\n",
    "\n",
    "  actual_labels.append(disease_name)\n",
    "  predicted_labels.append(predicted_disease_name)\n",
    "\n",
    "  confidence_scores = lr_testing.predict_proba(pred_df)\n",
    "  confidence_of_predicted_class = confidence_scores[0][predicted_class_index]\n",
    "  print(f'Actual Disease: {disease_name}, Predicted Disease: {predicted_disease_name}, Confidence: {confidence_of_predicted_class:.4f}')\n",
    "  print('=============================================================================================================================')"
   ]
  },
  {
   "cell_type": "code",
   "execution_count": null,
   "metadata": {
    "colab": {
     "base_uri": "https://localhost:8080/"
    },
    "executionInfo": {
     "elapsed": 246425,
     "status": "ok",
     "timestamp": 1748675033469,
     "user": {
      "displayName": "Umar Aftab",
      "userId": "07956869396390363126"
     },
     "user_tz": -300
    },
    "id": "hSAClgFPrqlg",
    "outputId": "066203d6-d019-41c1-96fb-46582fdf2847"
   },
   "outputs": [],
   "source": [
    "knn_pred = knn_testing.predict(X_test)\n",
    "knn_accuracy = accuracy_score(y_test, knn_pred)\n",
    "knn_f1_score = f1_score(y_test, knn_pred, average='weighted')\n",
    "print(f'K-Nearest Neighbors Classifier Accuracy: {knn_accuracy:.4f} | F1 Score: {knn_f1_score:.4f}')"
   ]
  },
  {
   "cell_type": "code",
   "execution_count": null,
   "metadata": {
    "colab": {
     "base_uri": "https://localhost:8080/",
     "height": 1000
    },
    "executionInfo": {
     "elapsed": 5686,
     "status": "ok",
     "timestamp": 1748675039150,
     "user": {
      "displayName": "Umar Aftab",
      "userId": "07956869396390363126"
     },
     "user_tz": -300
    },
    "id": "vWUWC4pWrwDE",
    "outputId": "4e2b6420-c12b-415e-bd4e-1a9c34b6dcaa"
   },
   "outputs": [],
   "source": [
    "plot_simplified_cm(y_test, knn_pred, \"K Nearest Neighbor\")"
   ]
  },
  {
   "cell_type": "markdown",
   "metadata": {
    "id": "I3oq5BBfC4RD"
   },
   "source": [
    "### Testing Decision Tree\n"
   ]
  },
  {
   "cell_type": "code",
   "execution_count": null,
   "metadata": {
    "colab": {
     "base_uri": "https://localhost:8080/"
    },
    "executionInfo": {
     "elapsed": 19,
     "status": "ok",
     "timestamp": 1748675039171,
     "user": {
      "displayName": "Umar Aftab",
      "userId": "07956869396390363126"
     },
     "user_tz": -300
    },
    "id": "Wnolhf38r2Mv",
    "outputId": "9a2f4a9e-80c9-41ae-ab1e-5cb06344ce39"
   },
   "outputs": [],
   "source": [
    "actual_labels = []\n",
    "predicted_labels = []\n",
    "\n",
    "print('K Nearest Neighbors Testing: ')\n",
    "\n",
    "for i in range(len(testing_data)):\n",
    "  disease_name = testing_data.iloc[i]['diseases']\n",
    "\n",
    "  pred_series = testing_data.iloc[i].drop('diseases')\n",
    "  pred_df = pd.DataFrame([pred_series])\n",
    "\n",
    "  predictions = dt_testing.predict(pred_df)\n",
    "\n",
    "  predicted_class_index = predictions[0]\n",
    "  predicted_disease_name = encoded_disease.loc[encoded_disease['Encoded'] == predicted_class_index]['Disease'].iloc[0]\n",
    "\n",
    "  actual_labels.append(disease_name)\n",
    "  predicted_labels.append(predicted_disease_name)\n",
    "\n",
    "  confidence_scores = lr_testing.predict_proba(pred_df)\n",
    "  confidence_of_predicted_class = confidence_scores[0][predicted_class_index]\n",
    "  print(f'Actual Disease: {disease_name}, Predicted Disease: {predicted_disease_name}, Confidence: {confidence_of_predicted_class:.4f}')\n",
    "  print('=============================================================================================================================')"
   ]
  },
  {
   "cell_type": "code",
   "execution_count": null,
   "metadata": {
    "colab": {
     "base_uri": "https://localhost:8080/"
    },
    "executionInfo": {
     "elapsed": 93,
     "status": "ok",
     "timestamp": 1748675039269,
     "user": {
      "displayName": "Umar Aftab",
      "userId": "07956869396390363126"
     },
     "user_tz": -300
    },
    "id": "Pu8OOgUlsG1F",
    "outputId": "21a9f6bb-deae-4764-b15a-bab39f30d5ec"
   },
   "outputs": [],
   "source": [
    "dt_pred = dt_testing.predict(X_test)\n",
    "dt_accuracy = accuracy_score(y_test, dt_pred)\n",
    "dt_f1_score = f1_score(y_test, dt_pred, average='weighted')\n",
    "print(f'Decision Tree Classifier Accuracy: {dt_accuracy:.4f} | F1 Score: {dt_f1_score:.4f}')"
   ]
  },
  {
   "cell_type": "code",
   "execution_count": null,
   "metadata": {
    "colab": {
     "base_uri": "https://localhost:8080/",
     "height": 1000
    },
    "executionInfo": {
     "elapsed": 6907,
     "status": "ok",
     "timestamp": 1748675046186,
     "user": {
      "displayName": "Umar Aftab",
      "userId": "07956869396390363126"
     },
     "user_tz": -300
    },
    "id": "X3eGTs8-sI2f",
    "outputId": "36ac05bf-d076-4063-9b5f-6408714f3820"
   },
   "outputs": [],
   "source": [
    "plot_simplified_cm(y_test, dt_pred, \"Decision Tree\")"
   ]
  },
  {
   "cell_type": "markdown",
   "metadata": {},
   "source": [
    "### Testing 1D-CNN Model\n"
   ]
  },
  {
   "cell_type": "code",
   "execution_count": null,
   "metadata": {},
   "outputs": [],
   "source": [
    "actual_labels = []\n",
    "predicted_labels = []\n",
    "\n",
    "print('1D CNN Testing: ')\n",
    "\n",
    "for i in range(len(testing_data)):\n",
    "    disease_name = testing_data.iloc[i]['diseases']\n",
    "\n",
    "    pred_series = testing_data.iloc[i].drop('diseases').values\n",
    "    pred_array = np.expand_dims(pred_series, axis=0)\n",
    "\n",
    "    predictions = cnn_model.predict(pred_array)\n",
    "\n",
    "    predicted_class_index = np.argmax(predictions[0])\n",
    "    predicted_disease_name = encoded_disease.loc[encoded_disease['Encoded'] == predicted_class_index]['Disease'].iloc[0]\n",
    "\n",
    "    actual_labels.append(disease_name)\n",
    "    predicted_labels.append(predicted_disease_name)\n",
    "\n",
    "    confidence_of_predicted_class = predictions[0][predicted_class_index]\n",
    "    print(f'Actual Disease: {disease_name}, Predicted Disease: {predicted_disease_name}, Confidence: {confidence_of_predicted_class:.4f}')\n",
    "    print('=============================================================================================================================')"
   ]
  },
  {
   "cell_type": "code",
   "execution_count": null,
   "metadata": {},
   "outputs": [],
   "source": [
    "cnn_pred = dt_testing.predict(X_test)\n",
    "cnn_accuracy = accuracy_score(y_test, cnn_pred)\n",
    "cnn_f1_score = f1_score(y_test, cnn_pred, average='weighted')\n",
    "print(f'Decision Tree Classifier Accuracy: {cnn_accuracy:.4f} | F1 Score: {cnn_f1_score:.4f}')"
   ]
  },
  {
   "cell_type": "code",
   "execution_count": null,
   "metadata": {},
   "outputs": [],
   "source": [
    "plot_simplified_cm(y_test, dt_pred, \"1D-CNN\")"
   ]
  },
  {
   "cell_type": "markdown",
   "metadata": {
    "id": "k5y76poYFvEo"
   },
   "source": [
    "# Evaluating Best Model\n"
   ]
  },
  {
   "cell_type": "code",
   "execution_count": null,
   "metadata": {
    "colab": {
     "base_uri": "https://localhost:8080/",
     "height": 607
    },
    "executionInfo": {
     "elapsed": 543,
     "status": "ok",
     "timestamp": 1748675046741,
     "user": {
      "displayName": "Umar Aftab",
      "userId": "07956869396390363126"
     },
     "user_tz": -300
    },
    "id": "Ngjvn6yZs9ya",
    "outputId": "fc1365be-24e5-4f3b-d1da-d2379f9cdd88"
   },
   "outputs": [],
   "source": [
    "accuracies = {\n",
    "    'Logistic Regression': lr_accuracy,\n",
    "    'Decision Tree': dt_accuracy,\n",
    "    'K-Nearest Neighbors': knn_accuracy,\n",
    "    '1D-CNN': cnn_accuracy\n",
    "}\n",
    "\n",
    "accuracy_df = pd.DataFrame(list(accuracies.items()), columns=['Model', 'Accuracy'])\n",
    "accuracy_df = accuracy_df.sort_values(by='Accuracy', ascending=False)\n",
    "\n",
    "plt.figure(figsize=(10, 6))\n",
    "ax = sns.barplot(x='Accuracy', y='Model', data=accuracy_df, palette='viridis')\n",
    "\n",
    "for p in ax.patches:\n",
    "    width = p.get_width()\n",
    "    plt.text(width + 0.02, p.get_y() + p.get_height()/2., '{:1.2f}%'.format(width * 100), ha=\"left\", va=\"center\")\n",
    "\n",
    "plt.title('Model Accuracy Comparison', fontsize=16)\n",
    "plt.xlabel('Accuracy (%)', fontsize=12)\n",
    "plt.ylabel('Model', fontsize=12)\n",
    "plt.xlim(0, 1.1)\n",
    "plt.grid(axis='x', linestyle='--', alpha=0.7)\n",
    "plt.tight_layout()\n",
    "plt.savefig('model_accuracy_comparison.png')\n",
    "plt.show()"
   ]
  }
 ],
 "metadata": {
  "colab": {
   "authorship_tag": "ABX9TyPnQ91ap4xLNzBYNzjFdb+6",
   "mount_file_id": "1Y4DNXfy4LGcItNqVVv3wAA7KrvS4FnJR",
   "provenance": []
  },
  "kernelspec": {
   "display_name": "Python 3",
   "name": "python3"
  },
  "language_info": {
   "codemirror_mode": {
    "name": "ipython",
    "version": 3
   },
   "file_extension": ".py",
   "mimetype": "text/x-python",
   "name": "python",
   "nbconvert_exporter": "python",
   "pygments_lexer": "ipython3",
   "version": "3.12.7"
  }
 },
 "nbformat": 4,
 "nbformat_minor": 0
}
